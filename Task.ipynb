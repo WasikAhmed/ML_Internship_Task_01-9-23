{
 "cells": [
  {
   "cell_type": "markdown",
   "id": "27f1ca21-7d87-4fad-8f9f-873f58e68cd5",
   "metadata": {},
   "source": [
    "# Importing Modules"
   ]
  },
  {
   "cell_type": "code",
   "execution_count": 1,
   "id": "0ef8ba00-f126-4aaa-a157-fc2ced29bcf4",
   "metadata": {
    "tags": []
   },
   "outputs": [],
   "source": [
    "import pandas as pd\n",
    "import numpy as np\n",
    "import matplotlib.pyplot as plt"
   ]
  },
  {
   "cell_type": "markdown",
   "id": "974f480d-118c-412d-b76f-53f7da162f14",
   "metadata": {},
   "source": [
    "# Dataframe"
   ]
  },
  {
   "cell_type": "code",
   "execution_count": 21,
   "id": "f49e8bf8-0d67-4b09-8d3d-76941f459e34",
   "metadata": {},
   "outputs": [],
   "source": [
    "train_df = pd.read_csv(\"./Dataset/train.csv\")\n",
    "test_df = pd.read_csv(\"./Dataset/test.csv\")\n",
    "sample_df = pd.read_csv(\"./Dataset/sample_submission.csv\")"
   ]
  },
  {
   "cell_type": "code",
   "execution_count": 3,
   "id": "0f4c767e-cce4-480f-a8f5-a69312d0eec8",
   "metadata": {
    "tags": []
   },
   "outputs": [
    {
     "data": {
      "text/html": [
       "<div>\n",
       "<style scoped>\n",
       "    .dataframe tbody tr th:only-of-type {\n",
       "        vertical-align: middle;\n",
       "    }\n",
       "\n",
       "    .dataframe tbody tr th {\n",
       "        vertical-align: top;\n",
       "    }\n",
       "\n",
       "    .dataframe thead th {\n",
       "        text-align: right;\n",
       "    }\n",
       "</style>\n",
       "<table border=\"1\" class=\"dataframe\">\n",
       "  <thead>\n",
       "    <tr style=\"text-align: right;\">\n",
       "      <th></th>\n",
       "      <th>UID</th>\n",
       "      <th>col_0</th>\n",
       "      <th>col_1</th>\n",
       "      <th>col_2</th>\n",
       "      <th>col_3</th>\n",
       "      <th>col_4</th>\n",
       "      <th>col_5</th>\n",
       "      <th>col_6</th>\n",
       "      <th>y</th>\n",
       "    </tr>\n",
       "  </thead>\n",
       "  <tbody>\n",
       "    <tr>\n",
       "      <th>0</th>\n",
       "      <td>0</td>\n",
       "      <td>A 0</td>\n",
       "      <td>B0</td>\n",
       "      <td>C2</td>\n",
       "      <td>D1</td>\n",
       "      <td>100</td>\n",
       "      <td>E1</td>\n",
       "      <td>F2</td>\n",
       "      <td>237000</td>\n",
       "    </tr>\n",
       "    <tr>\n",
       "      <th>1</th>\n",
       "      <td>1</td>\n",
       "      <td>A1</td>\n",
       "      <td>B0</td>\n",
       "      <td>C11</td>\n",
       "      <td>D4</td>\n",
       "      <td>100</td>\n",
       "      <td>E4</td>\n",
       "      <td>F2</td>\n",
       "      <td>86193</td>\n",
       "    </tr>\n",
       "    <tr>\n",
       "      <th>2</th>\n",
       "      <td>2</td>\n",
       "      <td>A0</td>\n",
       "      <td>B0</td>\n",
       "      <td>C18</td>\n",
       "      <td>D0</td>\n",
       "      <td>0</td>\n",
       "      <td>E0</td>\n",
       "      <td>F2</td>\n",
       "      <td>169200</td>\n",
       "    </tr>\n",
       "    <tr>\n",
       "      <th>3</th>\n",
       "      <td>3</td>\n",
       "      <td>A2</td>\n",
       "      <td>B0</td>\n",
       "      <td>C11</td>\n",
       "      <td>D1</td>\n",
       "      <td>100</td>\n",
       "      <td>E1</td>\n",
       "      <td>F2</td>\n",
       "      <td>58000</td>\n",
       "    </tr>\n",
       "    <tr>\n",
       "      <th>4</th>\n",
       "      <td>4</td>\n",
       "      <td>A0</td>\n",
       "      <td>B0</td>\n",
       "      <td>C67</td>\n",
       "      <td>D1</td>\n",
       "      <td>0</td>\n",
       "      <td>E1</td>\n",
       "      <td>F2</td>\n",
       "      <td>235000</td>\n",
       "    </tr>\n",
       "    <tr>\n",
       "      <th>...</th>\n",
       "      <td>...</td>\n",
       "      <td>...</td>\n",
       "      <td>...</td>\n",
       "      <td>...</td>\n",
       "      <td>...</td>\n",
       "      <td>...</td>\n",
       "      <td>...</td>\n",
       "      <td>...</td>\n",
       "      <td>...</td>\n",
       "    </tr>\n",
       "    <tr>\n",
       "      <th>2623</th>\n",
       "      <td>2623</td>\n",
       "      <td>A1</td>\n",
       "      <td>B0</td>\n",
       "      <td>C2</td>\n",
       "      <td>D1</td>\n",
       "      <td>0</td>\n",
       "      <td>E1</td>\n",
       "      <td>F2</td>\n",
       "      <td>102100</td>\n",
       "    </tr>\n",
       "    <tr>\n",
       "      <th>2624</th>\n",
       "      <td>2624</td>\n",
       "      <td>A0</td>\n",
       "      <td>B0</td>\n",
       "      <td>C8</td>\n",
       "      <td>D1</td>\n",
       "      <td>0</td>\n",
       "      <td>E1</td>\n",
       "      <td>F2</td>\n",
       "      <td>129300</td>\n",
       "    </tr>\n",
       "    <tr>\n",
       "      <th>2625</th>\n",
       "      <td>2625</td>\n",
       "      <td>A0</td>\n",
       "      <td>BO</td>\n",
       "      <td>C7</td>\n",
       "      <td>D1</td>\n",
       "      <td>100</td>\n",
       "      <td>E1</td>\n",
       "      <td>F2</td>\n",
       "      <td>275300</td>\n",
       "    </tr>\n",
       "    <tr>\n",
       "      <th>2626</th>\n",
       "      <td>2626</td>\n",
       "      <td>A0</td>\n",
       "      <td>B0</td>\n",
       "      <td>C11</td>\n",
       "      <td>D1</td>\n",
       "      <td>100</td>\n",
       "      <td>E1</td>\n",
       "      <td>F2</td>\n",
       "      <td>150000</td>\n",
       "    </tr>\n",
       "    <tr>\n",
       "      <th>2627</th>\n",
       "      <td>2627</td>\n",
       "      <td>A0</td>\n",
       "      <td>B0</td>\n",
       "      <td>C2</td>\n",
       "      <td>D1</td>\n",
       "      <td>100</td>\n",
       "      <td>E1</td>\n",
       "      <td>F2</td>\n",
       "      <td>191475</td>\n",
       "    </tr>\n",
       "  </tbody>\n",
       "</table>\n",
       "<p>2628 rows × 9 columns</p>\n",
       "</div>"
      ],
      "text/plain": [
       "       UID col_0   col_1 col_2 col_3  col_4 col_5 col_6       y\n",
       "0        0   A 0      B0    C2    D1    100    E1    F2  237000\n",
       "1        1    A1      B0   C11    D4    100    E4    F2   86193\n",
       "2        2    A0      B0   C18    D0      0    E0    F2  169200\n",
       "3        3    A2      B0   C11    D1    100    E1    F2   58000\n",
       "4        4    A0      B0   C67    D1      0    E1    F2  235000\n",
       "...    ...   ...     ...   ...   ...    ...   ...   ...     ...\n",
       "2623  2623    A1      B0    C2    D1      0    E1    F2  102100\n",
       "2624  2624    A0   B0       C8    D1      0    E1    F2  129300\n",
       "2625  2625    A0      BO    C7    D1    100    E1    F2  275300\n",
       "2626  2626    A0      B0   C11    D1    100    E1    F2  150000\n",
       "2627  2627    A0      B0    C2    D1    100    E1    F2  191475\n",
       "\n",
       "[2628 rows x 9 columns]"
      ]
     },
     "execution_count": 3,
     "metadata": {},
     "output_type": "execute_result"
    }
   ],
   "source": [
    "train_df"
   ]
  },
  {
   "cell_type": "code",
   "execution_count": 4,
   "id": "ccc8737d-1feb-45b0-8ffb-7141e0e8b2b5",
   "metadata": {
    "tags": []
   },
   "outputs": [
    {
     "data": {
      "text/html": [
       "<div>\n",
       "<style scoped>\n",
       "    .dataframe tbody tr th:only-of-type {\n",
       "        vertical-align: middle;\n",
       "    }\n",
       "\n",
       "    .dataframe tbody tr th {\n",
       "        vertical-align: top;\n",
       "    }\n",
       "\n",
       "    .dataframe thead th {\n",
       "        text-align: right;\n",
       "    }\n",
       "</style>\n",
       "<table border=\"1\" class=\"dataframe\">\n",
       "  <thead>\n",
       "    <tr style=\"text-align: right;\">\n",
       "      <th></th>\n",
       "      <th>UID</th>\n",
       "      <th>col_0</th>\n",
       "      <th>col_1</th>\n",
       "      <th>col_2</th>\n",
       "      <th>col_3</th>\n",
       "      <th>col_4</th>\n",
       "      <th>col_5</th>\n",
       "      <th>col_6</th>\n",
       "    </tr>\n",
       "  </thead>\n",
       "  <tbody>\n",
       "    <tr>\n",
       "      <th>0</th>\n",
       "      <td>2628</td>\n",
       "      <td>A0</td>\n",
       "      <td>B0</td>\n",
       "      <td>C11</td>\n",
       "      <td>D1</td>\n",
       "      <td>100</td>\n",
       "      <td>E1</td>\n",
       "      <td>F2</td>\n",
       "    </tr>\n",
       "    <tr>\n",
       "      <th>1</th>\n",
       "      <td>2629</td>\n",
       "      <td>A0</td>\n",
       "      <td>B0</td>\n",
       "      <td>C11</td>\n",
       "      <td>D1</td>\n",
       "      <td>0</td>\n",
       "      <td>E1</td>\n",
       "      <td>F2</td>\n",
       "    </tr>\n",
       "    <tr>\n",
       "      <th>2</th>\n",
       "      <td>2630</td>\n",
       "      <td>A0</td>\n",
       "      <td>B0</td>\n",
       "      <td>C11</td>\n",
       "      <td>D1</td>\n",
       "      <td>100</td>\n",
       "      <td>E1</td>\n",
       "      <td>F2</td>\n",
       "    </tr>\n",
       "    <tr>\n",
       "      <th>3</th>\n",
       "      <td>2631</td>\n",
       "      <td>A0</td>\n",
       "      <td>B0</td>\n",
       "      <td>C26</td>\n",
       "      <td>D1</td>\n",
       "      <td>100</td>\n",
       "      <td>E1</td>\n",
       "      <td>F0</td>\n",
       "    </tr>\n",
       "    <tr>\n",
       "      <th>4</th>\n",
       "      <td>2632</td>\n",
       "      <td>A0</td>\n",
       "      <td>B0</td>\n",
       "      <td>C11</td>\n",
       "      <td>D1</td>\n",
       "      <td>100</td>\n",
       "      <td>E1</td>\n",
       "      <td>NaN</td>\n",
       "    </tr>\n",
       "    <tr>\n",
       "      <th>...</th>\n",
       "      <td>...</td>\n",
       "      <td>...</td>\n",
       "      <td>...</td>\n",
       "      <td>...</td>\n",
       "      <td>...</td>\n",
       "      <td>...</td>\n",
       "      <td>...</td>\n",
       "      <td>...</td>\n",
       "    </tr>\n",
       "    <tr>\n",
       "      <th>1122</th>\n",
       "      <td>3750</td>\n",
       "      <td>A0</td>\n",
       "      <td>B0</td>\n",
       "      <td>C4</td>\n",
       "      <td>D1</td>\n",
       "      <td>100</td>\n",
       "      <td>E1</td>\n",
       "      <td>NaN</td>\n",
       "    </tr>\n",
       "    <tr>\n",
       "      <th>1123</th>\n",
       "      <td>3751</td>\n",
       "      <td>A1</td>\n",
       "      <td>B0</td>\n",
       "      <td>C34</td>\n",
       "      <td>D1</td>\n",
       "      <td>0</td>\n",
       "      <td>E1</td>\n",
       "      <td>F2</td>\n",
       "    </tr>\n",
       "    <tr>\n",
       "      <th>1124</th>\n",
       "      <td>3752</td>\n",
       "      <td>A2</td>\n",
       "      <td>B 0</td>\n",
       "      <td>C4</td>\n",
       "      <td>D1</td>\n",
       "      <td>0</td>\n",
       "      <td>E1</td>\n",
       "      <td>F2</td>\n",
       "    </tr>\n",
       "    <tr>\n",
       "      <th>1125</th>\n",
       "      <td>3753</td>\n",
       "      <td>A0</td>\n",
       "      <td>B0</td>\n",
       "      <td>C2</td>\n",
       "      <td>D1</td>\n",
       "      <td>100</td>\n",
       "      <td>E1</td>\n",
       "      <td>F2</td>\n",
       "    </tr>\n",
       "    <tr>\n",
       "      <th>1126</th>\n",
       "      <td>3754</td>\n",
       "      <td>A0</td>\n",
       "      <td>B0</td>\n",
       "      <td>C11</td>\n",
       "      <td>D1</td>\n",
       "      <td>0</td>\n",
       "      <td>E1</td>\n",
       "      <td>F2</td>\n",
       "    </tr>\n",
       "  </tbody>\n",
       "</table>\n",
       "<p>1127 rows × 8 columns</p>\n",
       "</div>"
      ],
      "text/plain": [
       "       UID col_0 col_1 col_2 col_3  col_4 col_5 col_6\n",
       "0     2628    A0    B0   C11    D1    100    E1    F2\n",
       "1     2629    A0    B0   C11    D1      0    E1    F2\n",
       "2     2630    A0    B0   C11    D1    100    E1    F2\n",
       "3     2631    A0    B0   C26    D1    100    E1    F0\n",
       "4     2632    A0    B0   C11    D1    100    E1   NaN\n",
       "...    ...   ...   ...   ...   ...    ...   ...   ...\n",
       "1122  3750    A0    B0    C4    D1    100    E1   NaN\n",
       "1123  3751    A1    B0   C34    D1      0    E1    F2\n",
       "1124  3752    A2   B 0    C4    D1      0    E1    F2\n",
       "1125  3753    A0    B0    C2    D1    100    E1    F2\n",
       "1126  3754    A0    B0   C11    D1      0    E1    F2\n",
       "\n",
       "[1127 rows x 8 columns]"
      ]
     },
     "execution_count": 4,
     "metadata": {},
     "output_type": "execute_result"
    }
   ],
   "source": [
    "test_df"
   ]
  },
  {
   "cell_type": "code",
   "execution_count": 6,
   "id": "bca7d98c-8b7f-4e09-a53d-162d65bb1914",
   "metadata": {
    "tags": []
   },
   "outputs": [
    {
     "data": {
      "text/html": [
       "<div>\n",
       "<style scoped>\n",
       "    .dataframe tbody tr th:only-of-type {\n",
       "        vertical-align: middle;\n",
       "    }\n",
       "\n",
       "    .dataframe tbody tr th {\n",
       "        vertical-align: top;\n",
       "    }\n",
       "\n",
       "    .dataframe thead th {\n",
       "        text-align: right;\n",
       "    }\n",
       "</style>\n",
       "<table border=\"1\" class=\"dataframe\">\n",
       "  <thead>\n",
       "    <tr style=\"text-align: right;\">\n",
       "      <th></th>\n",
       "      <th>UID</th>\n",
       "      <th>y</th>\n",
       "    </tr>\n",
       "  </thead>\n",
       "  <tbody>\n",
       "    <tr>\n",
       "      <th>0</th>\n",
       "      <td>2628</td>\n",
       "      <td>344410</td>\n",
       "    </tr>\n",
       "    <tr>\n",
       "      <th>1</th>\n",
       "      <td>2629</td>\n",
       "      <td>309902</td>\n",
       "    </tr>\n",
       "    <tr>\n",
       "      <th>2</th>\n",
       "      <td>2630</td>\n",
       "      <td>48906</td>\n",
       "    </tr>\n",
       "    <tr>\n",
       "      <th>3</th>\n",
       "      <td>2631</td>\n",
       "      <td>107017</td>\n",
       "    </tr>\n",
       "    <tr>\n",
       "      <th>4</th>\n",
       "      <td>2632</td>\n",
       "      <td>316349</td>\n",
       "    </tr>\n",
       "    <tr>\n",
       "      <th>...</th>\n",
       "      <td>...</td>\n",
       "      <td>...</td>\n",
       "    </tr>\n",
       "    <tr>\n",
       "      <th>1122</th>\n",
       "      <td>3750</td>\n",
       "      <td>192954</td>\n",
       "    </tr>\n",
       "    <tr>\n",
       "      <th>1123</th>\n",
       "      <td>3751</td>\n",
       "      <td>70169</td>\n",
       "    </tr>\n",
       "    <tr>\n",
       "      <th>1124</th>\n",
       "      <td>3752</td>\n",
       "      <td>340055</td>\n",
       "    </tr>\n",
       "    <tr>\n",
       "      <th>1125</th>\n",
       "      <td>3753</td>\n",
       "      <td>246650</td>\n",
       "    </tr>\n",
       "    <tr>\n",
       "      <th>1126</th>\n",
       "      <td>3754</td>\n",
       "      <td>207011</td>\n",
       "    </tr>\n",
       "  </tbody>\n",
       "</table>\n",
       "<p>1127 rows × 2 columns</p>\n",
       "</div>"
      ],
      "text/plain": [
       "       UID       y\n",
       "0     2628  344410\n",
       "1     2629  309902\n",
       "2     2630   48906\n",
       "3     2631  107017\n",
       "4     2632  316349\n",
       "...    ...     ...\n",
       "1122  3750  192954\n",
       "1123  3751   70169\n",
       "1124  3752  340055\n",
       "1125  3753  246650\n",
       "1126  3754  207011\n",
       "\n",
       "[1127 rows x 2 columns]"
      ]
     },
     "execution_count": 6,
     "metadata": {},
     "output_type": "execute_result"
    }
   ],
   "source": [
    "sample_df"
   ]
  },
  {
   "cell_type": "code",
   "execution_count": 10,
   "id": "9028cf5b-80f7-4c0e-a3d7-acee982ff4ec",
   "metadata": {
    "tags": []
   },
   "outputs": [
    {
     "data": {
      "text/plain": [
       "337"
      ]
     },
     "execution_count": 10,
     "metadata": {},
     "output_type": "execute_result"
    }
   ],
   "source": [
    "train_df.isnull().sum().sum()"
   ]
  },
  {
   "cell_type": "code",
   "execution_count": 12,
   "id": "f8d861fc-46cc-43e3-a78f-0e41b9b2ca41",
   "metadata": {
    "tags": []
   },
   "outputs": [
    {
     "data": {
      "text/plain": [
       "UID        0\n",
       "col_0    139\n",
       "col_1     86\n",
       "col_2      0\n",
       "col_3      0\n",
       "col_4      0\n",
       "col_5      0\n",
       "col_6    112\n",
       "y          0\n",
       "dtype: int64"
      ]
     },
     "execution_count": 12,
     "metadata": {},
     "output_type": "execute_result"
    }
   ],
   "source": [
    "train_df.isnull().sum()"
   ]
  },
  {
   "cell_type": "code",
   "execution_count": 29,
   "id": "fb5c825b-345c-4175-a0f2-880a1cc8ff64",
   "metadata": {
    "tags": []
   },
   "outputs": [
    {
     "data": {
      "text/html": [
       "<div>\n",
       "<style scoped>\n",
       "    .dataframe tbody tr th:only-of-type {\n",
       "        vertical-align: middle;\n",
       "    }\n",
       "\n",
       "    .dataframe tbody tr th {\n",
       "        vertical-align: top;\n",
       "    }\n",
       "\n",
       "    .dataframe thead th {\n",
       "        text-align: right;\n",
       "    }\n",
       "</style>\n",
       "<table border=\"1\" class=\"dataframe\">\n",
       "  <thead>\n",
       "    <tr style=\"text-align: right;\">\n",
       "      <th></th>\n",
       "      <th>UID</th>\n",
       "      <th>col_0</th>\n",
       "      <th>col_1</th>\n",
       "      <th>col_2</th>\n",
       "      <th>col_3</th>\n",
       "      <th>col_4</th>\n",
       "      <th>col_5</th>\n",
       "      <th>col_6</th>\n",
       "      <th>y</th>\n",
       "    </tr>\n",
       "  </thead>\n",
       "  <tbody>\n",
       "    <tr>\n",
       "      <th>0</th>\n",
       "      <td>0</td>\n",
       "      <td>A 0</td>\n",
       "      <td>B0</td>\n",
       "      <td>C2</td>\n",
       "      <td>D1</td>\n",
       "      <td>100</td>\n",
       "      <td>E1</td>\n",
       "      <td>F2</td>\n",
       "      <td>237000</td>\n",
       "    </tr>\n",
       "    <tr>\n",
       "      <th>1</th>\n",
       "      <td>1</td>\n",
       "      <td>A1</td>\n",
       "      <td>B0</td>\n",
       "      <td>C11</td>\n",
       "      <td>D4</td>\n",
       "      <td>100</td>\n",
       "      <td>E4</td>\n",
       "      <td>F2</td>\n",
       "      <td>86193</td>\n",
       "    </tr>\n",
       "    <tr>\n",
       "      <th>2</th>\n",
       "      <td>2</td>\n",
       "      <td>A0</td>\n",
       "      <td>B0</td>\n",
       "      <td>C18</td>\n",
       "      <td>D0</td>\n",
       "      <td>0</td>\n",
       "      <td>E0</td>\n",
       "      <td>F2</td>\n",
       "      <td>169200</td>\n",
       "    </tr>\n",
       "    <tr>\n",
       "      <th>3</th>\n",
       "      <td>3</td>\n",
       "      <td>A2</td>\n",
       "      <td>B0</td>\n",
       "      <td>C11</td>\n",
       "      <td>D1</td>\n",
       "      <td>100</td>\n",
       "      <td>E1</td>\n",
       "      <td>F2</td>\n",
       "      <td>58000</td>\n",
       "    </tr>\n",
       "    <tr>\n",
       "      <th>4</th>\n",
       "      <td>4</td>\n",
       "      <td>A0</td>\n",
       "      <td>B0</td>\n",
       "      <td>C67</td>\n",
       "      <td>D1</td>\n",
       "      <td>0</td>\n",
       "      <td>E1</td>\n",
       "      <td>F2</td>\n",
       "      <td>235000</td>\n",
       "    </tr>\n",
       "    <tr>\n",
       "      <th>...</th>\n",
       "      <td>...</td>\n",
       "      <td>...</td>\n",
       "      <td>...</td>\n",
       "      <td>...</td>\n",
       "      <td>...</td>\n",
       "      <td>...</td>\n",
       "      <td>...</td>\n",
       "      <td>...</td>\n",
       "      <td>...</td>\n",
       "    </tr>\n",
       "    <tr>\n",
       "      <th>2623</th>\n",
       "      <td>2623</td>\n",
       "      <td>A1</td>\n",
       "      <td>B0</td>\n",
       "      <td>C2</td>\n",
       "      <td>D1</td>\n",
       "      <td>0</td>\n",
       "      <td>E1</td>\n",
       "      <td>F2</td>\n",
       "      <td>102100</td>\n",
       "    </tr>\n",
       "    <tr>\n",
       "      <th>2624</th>\n",
       "      <td>2624</td>\n",
       "      <td>A0</td>\n",
       "      <td>B0</td>\n",
       "      <td>C8</td>\n",
       "      <td>D1</td>\n",
       "      <td>0</td>\n",
       "      <td>E1</td>\n",
       "      <td>F2</td>\n",
       "      <td>129300</td>\n",
       "    </tr>\n",
       "    <tr>\n",
       "      <th>2625</th>\n",
       "      <td>2625</td>\n",
       "      <td>A0</td>\n",
       "      <td>BO</td>\n",
       "      <td>C7</td>\n",
       "      <td>D1</td>\n",
       "      <td>100</td>\n",
       "      <td>E1</td>\n",
       "      <td>F2</td>\n",
       "      <td>275300</td>\n",
       "    </tr>\n",
       "    <tr>\n",
       "      <th>2626</th>\n",
       "      <td>2626</td>\n",
       "      <td>A0</td>\n",
       "      <td>B0</td>\n",
       "      <td>C11</td>\n",
       "      <td>D1</td>\n",
       "      <td>100</td>\n",
       "      <td>E1</td>\n",
       "      <td>F2</td>\n",
       "      <td>150000</td>\n",
       "    </tr>\n",
       "    <tr>\n",
       "      <th>2627</th>\n",
       "      <td>2627</td>\n",
       "      <td>A0</td>\n",
       "      <td>B0</td>\n",
       "      <td>C2</td>\n",
       "      <td>D1</td>\n",
       "      <td>100</td>\n",
       "      <td>E1</td>\n",
       "      <td>F2</td>\n",
       "      <td>191475</td>\n",
       "    </tr>\n",
       "  </tbody>\n",
       "</table>\n",
       "<p>2628 rows × 9 columns</p>\n",
       "</div>"
      ],
      "text/plain": [
       "       UID col_0   col_1 col_2 col_3  col_4 col_5 col_6       y\n",
       "0        0   A 0      B0    C2    D1    100    E1    F2  237000\n",
       "1        1    A1      B0   C11    D4    100    E4    F2   86193\n",
       "2        2    A0      B0   C18    D0      0    E0    F2  169200\n",
       "3        3    A2      B0   C11    D1    100    E1    F2   58000\n",
       "4        4    A0      B0   C67    D1      0    E1    F2  235000\n",
       "...    ...   ...     ...   ...   ...    ...   ...   ...     ...\n",
       "2623  2623    A1      B0    C2    D1      0    E1    F2  102100\n",
       "2624  2624    A0   B0       C8    D1      0    E1    F2  129300\n",
       "2625  2625    A0      BO    C7    D1    100    E1    F2  275300\n",
       "2626  2626    A0      B0   C11    D1    100    E1    F2  150000\n",
       "2627  2627    A0      B0    C2    D1    100    E1    F2  191475\n",
       "\n",
       "[2628 rows x 9 columns]"
      ]
     },
     "execution_count": 29,
     "metadata": {},
     "output_type": "execute_result"
    }
   ],
   "source": [
    "train_df = pd.read_csv(\"./Dataset/train.csv\")\n",
    "train_df"
   ]
  },
  {
   "cell_type": "code",
   "execution_count": 30,
   "id": "56cdec29-c2a9-472c-8eb9-b9f10c6dbb53",
   "metadata": {
    "tags": []
   },
   "outputs": [
    {
     "data": {
      "text/html": [
       "<div>\n",
       "<style scoped>\n",
       "    .dataframe tbody tr th:only-of-type {\n",
       "        vertical-align: middle;\n",
       "    }\n",
       "\n",
       "    .dataframe tbody tr th {\n",
       "        vertical-align: top;\n",
       "    }\n",
       "\n",
       "    .dataframe thead th {\n",
       "        text-align: right;\n",
       "    }\n",
       "</style>\n",
       "<table border=\"1\" class=\"dataframe\">\n",
       "  <thead>\n",
       "    <tr style=\"text-align: right;\">\n",
       "      <th></th>\n",
       "      <th>UID</th>\n",
       "      <th>col_0</th>\n",
       "      <th>col_1</th>\n",
       "      <th>col_2</th>\n",
       "      <th>col_3</th>\n",
       "      <th>col_4</th>\n",
       "      <th>col_5</th>\n",
       "      <th>col_6</th>\n",
       "      <th>y</th>\n",
       "    </tr>\n",
       "  </thead>\n",
       "  <tbody>\n",
       "    <tr>\n",
       "      <th>0</th>\n",
       "      <td>0</td>\n",
       "      <td>A0</td>\n",
       "      <td>B0</td>\n",
       "      <td>C2</td>\n",
       "      <td>D1</td>\n",
       "      <td>100</td>\n",
       "      <td>E1</td>\n",
       "      <td>F2</td>\n",
       "      <td>237000</td>\n",
       "    </tr>\n",
       "    <tr>\n",
       "      <th>1</th>\n",
       "      <td>1</td>\n",
       "      <td>A1</td>\n",
       "      <td>B0</td>\n",
       "      <td>C11</td>\n",
       "      <td>D4</td>\n",
       "      <td>100</td>\n",
       "      <td>E4</td>\n",
       "      <td>F2</td>\n",
       "      <td>86193</td>\n",
       "    </tr>\n",
       "    <tr>\n",
       "      <th>2</th>\n",
       "      <td>2</td>\n",
       "      <td>A0</td>\n",
       "      <td>B0</td>\n",
       "      <td>C18</td>\n",
       "      <td>D0</td>\n",
       "      <td>0</td>\n",
       "      <td>E0</td>\n",
       "      <td>F2</td>\n",
       "      <td>169200</td>\n",
       "    </tr>\n",
       "    <tr>\n",
       "      <th>3</th>\n",
       "      <td>3</td>\n",
       "      <td>A2</td>\n",
       "      <td>B0</td>\n",
       "      <td>C11</td>\n",
       "      <td>D1</td>\n",
       "      <td>100</td>\n",
       "      <td>E1</td>\n",
       "      <td>F2</td>\n",
       "      <td>58000</td>\n",
       "    </tr>\n",
       "    <tr>\n",
       "      <th>4</th>\n",
       "      <td>4</td>\n",
       "      <td>A0</td>\n",
       "      <td>B0</td>\n",
       "      <td>C67</td>\n",
       "      <td>D1</td>\n",
       "      <td>0</td>\n",
       "      <td>E1</td>\n",
       "      <td>F2</td>\n",
       "      <td>235000</td>\n",
       "    </tr>\n",
       "    <tr>\n",
       "      <th>...</th>\n",
       "      <td>...</td>\n",
       "      <td>...</td>\n",
       "      <td>...</td>\n",
       "      <td>...</td>\n",
       "      <td>...</td>\n",
       "      <td>...</td>\n",
       "      <td>...</td>\n",
       "      <td>...</td>\n",
       "      <td>...</td>\n",
       "    </tr>\n",
       "    <tr>\n",
       "      <th>2623</th>\n",
       "      <td>2623</td>\n",
       "      <td>A1</td>\n",
       "      <td>B0</td>\n",
       "      <td>C2</td>\n",
       "      <td>D1</td>\n",
       "      <td>0</td>\n",
       "      <td>E1</td>\n",
       "      <td>F2</td>\n",
       "      <td>102100</td>\n",
       "    </tr>\n",
       "    <tr>\n",
       "      <th>2624</th>\n",
       "      <td>2624</td>\n",
       "      <td>A0</td>\n",
       "      <td>B0</td>\n",
       "      <td>C8</td>\n",
       "      <td>D1</td>\n",
       "      <td>0</td>\n",
       "      <td>E1</td>\n",
       "      <td>F2</td>\n",
       "      <td>129300</td>\n",
       "    </tr>\n",
       "    <tr>\n",
       "      <th>2625</th>\n",
       "      <td>2625</td>\n",
       "      <td>A0</td>\n",
       "      <td>BO</td>\n",
       "      <td>C7</td>\n",
       "      <td>D1</td>\n",
       "      <td>100</td>\n",
       "      <td>E1</td>\n",
       "      <td>F2</td>\n",
       "      <td>275300</td>\n",
       "    </tr>\n",
       "    <tr>\n",
       "      <th>2626</th>\n",
       "      <td>2626</td>\n",
       "      <td>A0</td>\n",
       "      <td>B0</td>\n",
       "      <td>C11</td>\n",
       "      <td>D1</td>\n",
       "      <td>100</td>\n",
       "      <td>E1</td>\n",
       "      <td>F2</td>\n",
       "      <td>150000</td>\n",
       "    </tr>\n",
       "    <tr>\n",
       "      <th>2627</th>\n",
       "      <td>2627</td>\n",
       "      <td>A0</td>\n",
       "      <td>B0</td>\n",
       "      <td>C2</td>\n",
       "      <td>D1</td>\n",
       "      <td>100</td>\n",
       "      <td>E1</td>\n",
       "      <td>F2</td>\n",
       "      <td>191475</td>\n",
       "    </tr>\n",
       "  </tbody>\n",
       "</table>\n",
       "<p>2628 rows × 9 columns</p>\n",
       "</div>"
      ],
      "text/plain": [
       "       UID col_0   col_1 col_2 col_3  col_4 col_5 col_6       y\n",
       "0        0    A0      B0    C2    D1    100    E1    F2  237000\n",
       "1        1    A1      B0   C11    D4    100    E4    F2   86193\n",
       "2        2    A0      B0   C18    D0      0    E0    F2  169200\n",
       "3        3    A2      B0   C11    D1    100    E1    F2   58000\n",
       "4        4    A0      B0   C67    D1      0    E1    F2  235000\n",
       "...    ...   ...     ...   ...   ...    ...   ...   ...     ...\n",
       "2623  2623    A1      B0    C2    D1      0    E1    F2  102100\n",
       "2624  2624    A0   B0       C8    D1      0    E1    F2  129300\n",
       "2625  2625    A0      BO    C7    D1    100    E1    F2  275300\n",
       "2626  2626    A0      B0   C11    D1    100    E1    F2  150000\n",
       "2627  2627    A0      B0    C2    D1    100    E1    F2  191475\n",
       "\n",
       "[2628 rows x 9 columns]"
      ]
     },
     "execution_count": 30,
     "metadata": {},
     "output_type": "execute_result"
    }
   ],
   "source": [
    "train_df['col_0'] = train_df['col_0'].str.replace(r\"[oO0]\",\"0\",regex=True).str.replace(r\"\\s+\", \"\", regex=True).str.strip().str.upper()\n",
    "train_df"
   ]
  },
  {
   "cell_type": "code",
   "execution_count": 34,
   "id": "bdda9303-c06f-4b22-b9c0-a7734eec4ae0",
   "metadata": {
    "tags": []
   },
   "outputs": [
    {
     "data": {
      "text/plain": [
       "A0    1679\n",
       "A1     542\n",
       "A2     195\n",
       "A3      73\n",
       "Name: col_0, dtype: int64"
      ]
     },
     "execution_count": 34,
     "metadata": {},
     "output_type": "execute_result"
    }
   ],
   "source": [
    "train_df['col_0'].value_counts()"
   ]
  },
  {
   "cell_type": "code",
   "execution_count": 35,
   "id": "62713d23-2c2d-4045-8449-4702376d110d",
   "metadata": {
    "tags": []
   },
   "outputs": [],
   "source": [
    "train_df['col_0'] = train_df['col_0'].fillna('A0')"
   ]
  },
  {
   "cell_type": "code",
   "execution_count": 42,
   "id": "b5d00c6c-ee6f-4806-9d2a-fb453283e45d",
   "metadata": {
    "tags": []
   },
   "outputs": [],
   "source": [
    "train_df['col_1'] = train_df['col_1'].str.replace(r'\\s+', '', regex=True).str.strip().str.replace(r'[oO]','0',regex=True)"
   ]
  },
  {
   "cell_type": "code",
   "execution_count": 43,
   "id": "5944424b-2784-456b-9361-10df71976219",
   "metadata": {
    "tags": []
   },
   "outputs": [
    {
     "data": {
      "text/plain": [
       "B0    2518\n",
       "B3      11\n",
       "B2       7\n",
       "B1       6\n",
       "Name: col_1, dtype: int64"
      ]
     },
     "execution_count": 43,
     "metadata": {},
     "output_type": "execute_result"
    }
   ],
   "source": [
    "train_df['col_1'].value_counts()"
   ]
  },
  {
   "cell_type": "code",
   "execution_count": 44,
   "id": "80c432ef-c9ca-4595-b576-4afee18d736c",
   "metadata": {
    "tags": []
   },
   "outputs": [
    {
     "data": {
      "text/plain": [
       "UID        0\n",
       "col_0      0\n",
       "col_1     86\n",
       "col_2      0\n",
       "col_3      0\n",
       "col_4      0\n",
       "col_5      0\n",
       "col_6    112\n",
       "y          0\n",
       "dtype: int64"
      ]
     },
     "execution_count": 44,
     "metadata": {},
     "output_type": "execute_result"
    }
   ],
   "source": [
    "train_df.isnull().sum()"
   ]
  },
  {
   "cell_type": "code",
   "execution_count": 45,
   "id": "50cf6246-4de2-48e3-b3a5-47cd83404dbb",
   "metadata": {
    "tags": []
   },
   "outputs": [],
   "source": [
    "train_df['col_1'] = train_df['col_1'].fillna('B0')"
   ]
  },
  {
   "cell_type": "code",
   "execution_count": 46,
   "id": "d5cffd1a-edc7-4fd7-9155-8d31ae558159",
   "metadata": {
    "tags": []
   },
   "outputs": [
    {
     "data": {
      "text/plain": [
       "UID        0\n",
       "col_0      0\n",
       "col_1      0\n",
       "col_2      0\n",
       "col_3      0\n",
       "col_4      0\n",
       "col_5      0\n",
       "col_6    112\n",
       "y          0\n",
       "dtype: int64"
      ]
     },
     "execution_count": 46,
     "metadata": {},
     "output_type": "execute_result"
    }
   ],
   "source": [
    "train_df.isnull().sum()"
   ]
  },
  {
   "cell_type": "code",
   "execution_count": 49,
   "id": "0f57ffed-5fdd-451e-b8a7-090a1bb1a2d4",
   "metadata": {
    "tags": []
   },
   "outputs": [
    {
     "data": {
      "text/plain": [
       "F2        1976\n",
       "F0         286\n",
       "F1          97\n",
       "F 2         46\n",
       "F2          43\n",
       " F2         39\n",
       "F0           7\n",
       "F 0          6\n",
       " F0          6\n",
       "FO           4\n",
       "F 1          3\n",
       "F1           2\n",
       " F1          1\n",
       "Name: col_6, dtype: int64"
      ]
     },
     "execution_count": 49,
     "metadata": {},
     "output_type": "execute_result"
    }
   ],
   "source": [
    "train_df['col_6'].value_counts()"
   ]
  },
  {
   "cell_type": "code",
   "execution_count": 50,
   "id": "9eab7339-8186-453f-a8ae-9d64c818caeb",
   "metadata": {
    "tags": []
   },
   "outputs": [],
   "source": [
    "train_df['col_6'] = train_df['col_6'].str.replace(r'\\s+', '', regex=True).str.strip().str.replace(r'[oO]','0',regex=True)"
   ]
  },
  {
   "cell_type": "code",
   "execution_count": 51,
   "id": "3ee98261-8d12-4b21-acaf-bc10956f19b1",
   "metadata": {
    "tags": []
   },
   "outputs": [
    {
     "data": {
      "text/plain": [
       "F2    2104\n",
       "F0     309\n",
       "F1     103\n",
       "Name: col_6, dtype: int64"
      ]
     },
     "execution_count": 51,
     "metadata": {},
     "output_type": "execute_result"
    }
   ],
   "source": [
    "train_df['col_6'].value_counts()"
   ]
  },
  {
   "cell_type": "code",
   "execution_count": 52,
   "id": "068fd1ac-f2b0-4528-a5e8-b6433374dbca",
   "metadata": {
    "tags": []
   },
   "outputs": [
    {
     "data": {
      "text/plain": [
       "112"
      ]
     },
     "execution_count": 52,
     "metadata": {},
     "output_type": "execute_result"
    }
   ],
   "source": [
    "train_df['col_6'].isnull().sum()"
   ]
  },
  {
   "cell_type": "code",
   "execution_count": 53,
   "id": "77da4d08-8035-4602-bab9-296cf51eb45d",
   "metadata": {
    "tags": []
   },
   "outputs": [],
   "source": [
    "train_df['col_6'] = train_df['col_6'].fillna('F2')"
   ]
  },
  {
   "cell_type": "code",
   "execution_count": 54,
   "id": "a354b121-9ba3-4f4b-ac41-11ce5aa739e7",
   "metadata": {
    "tags": []
   },
   "outputs": [
    {
     "data": {
      "text/plain": [
       "F2    2216\n",
       "F0     309\n",
       "F1     103\n",
       "Name: col_6, dtype: int64"
      ]
     },
     "execution_count": 54,
     "metadata": {},
     "output_type": "execute_result"
    }
   ],
   "source": [
    "train_df['col_6'].value_counts()"
   ]
  },
  {
   "cell_type": "code",
   "execution_count": 55,
   "id": "c19d0524-37cc-4692-8d06-d0264421b945",
   "metadata": {
    "tags": []
   },
   "outputs": [],
   "source": [
    "train_df.to_csv(\"modified_train.csv\")"
   ]
  },
  {
   "cell_type": "code",
   "execution_count": 56,
   "id": "2a7abb72-9c71-42b6-b480-549bee9b5bd4",
   "metadata": {
    "tags": []
   },
   "outputs": [
    {
     "data": {
      "text/plain": [
       "UID      0\n",
       "col_0    0\n",
       "col_1    0\n",
       "col_2    0\n",
       "col_3    0\n",
       "col_4    0\n",
       "col_5    0\n",
       "col_6    0\n",
       "y        0\n",
       "dtype: int64"
      ]
     },
     "execution_count": 56,
     "metadata": {},
     "output_type": "execute_result"
    }
   ],
   "source": [
    "train_df.isnull().sum()"
   ]
  }
 ],
 "metadata": {
  "kernelspec": {
   "display_name": "Python 3 (ipykernel)",
   "language": "python",
   "name": "python3"
  },
  "language_info": {
   "codemirror_mode": {
    "name": "ipython",
    "version": 3
   },
   "file_extension": ".py",
   "mimetype": "text/x-python",
   "name": "python",
   "nbconvert_exporter": "python",
   "pygments_lexer": "ipython3",
   "version": "3.11.3"
  }
 },
 "nbformat": 4,
 "nbformat_minor": 5
}
