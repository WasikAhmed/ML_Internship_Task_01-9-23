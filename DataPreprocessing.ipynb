{
 "cells": [
  {
   "cell_type": "markdown",
   "id": "27f1ca21-7d87-4fad-8f9f-873f58e68cd5",
   "metadata": {},
   "source": [
    "# Importing Modules"
   ]
  },
  {
   "cell_type": "code",
   "execution_count": 1,
   "id": "0ef8ba00-f126-4aaa-a157-fc2ced29bcf4",
   "metadata": {
    "tags": [],
    "ExecuteTime": {
     "end_time": "2023-09-10T15:28:25.401322Z",
     "start_time": "2023-09-10T15:28:24.638250Z"
    }
   },
   "outputs": [],
   "source": [
    "import pandas as pd\n",
    "import numpy as np\n",
    "import matplotlib.pyplot as plt"
   ]
  },
  {
   "cell_type": "markdown",
   "id": "974f480d-118c-412d-b76f-53f7da162f14",
   "metadata": {},
   "source": [
    "# Dataframe"
   ]
  },
  {
   "cell_type": "code",
   "execution_count": 2,
   "id": "f49e8bf8-0d67-4b09-8d3d-76941f459e34",
   "metadata": {
    "ExecuteTime": {
     "end_time": "2023-09-10T15:28:25.411138Z",
     "start_time": "2023-09-10T15:28:25.401076Z"
    }
   },
   "outputs": [],
   "source": [
    "train_df = pd.read_csv(\"./Dataset/train.csv\")\n",
    "test_df = pd.read_csv(\"./Dataset/test.csv\")\n",
    "sample_df = pd.read_csv(\"./Dataset/sample_submission.csv\")"
   ]
  },
  {
   "cell_type": "code",
   "execution_count": 3,
   "outputs": [
    {
     "data": {
      "text/plain": "       UID col_0   col_1 col_2 col_3  col_4 col_5 col_6       y\n0        0   A 0      B0    C2    D1    100    E1    F2  237000\n1        1    A1      B0   C11    D4    100    E4    F2   86193\n2        2    A0      B0   C18    D0      0    E0    F2  169200\n3        3    A2      B0   C11    D1    100    E1    F2   58000\n4        4    A0      B0   C67    D1      0    E1    F2  235000\n...    ...   ...     ...   ...   ...    ...   ...   ...     ...\n2623  2623    A1      B0    C2    D1      0    E1    F2  102100\n2624  2624    A0   B0       C8    D1      0    E1    F2  129300\n2625  2625    A0      BO    C7    D1    100    E1    F2  275300\n2626  2626    A0      B0   C11    D1    100    E1    F2  150000\n2627  2627    A0      B0    C2    D1    100    E1    F2  191475\n\n[2628 rows x 9 columns]",
      "text/html": "<div>\n<style scoped>\n    .dataframe tbody tr th:only-of-type {\n        vertical-align: middle;\n    }\n\n    .dataframe tbody tr th {\n        vertical-align: top;\n    }\n\n    .dataframe thead th {\n        text-align: right;\n    }\n</style>\n<table border=\"1\" class=\"dataframe\">\n  <thead>\n    <tr style=\"text-align: right;\">\n      <th></th>\n      <th>UID</th>\n      <th>col_0</th>\n      <th>col_1</th>\n      <th>col_2</th>\n      <th>col_3</th>\n      <th>col_4</th>\n      <th>col_5</th>\n      <th>col_6</th>\n      <th>y</th>\n    </tr>\n  </thead>\n  <tbody>\n    <tr>\n      <th>0</th>\n      <td>0</td>\n      <td>A 0</td>\n      <td>B0</td>\n      <td>C2</td>\n      <td>D1</td>\n      <td>100</td>\n      <td>E1</td>\n      <td>F2</td>\n      <td>237000</td>\n    </tr>\n    <tr>\n      <th>1</th>\n      <td>1</td>\n      <td>A1</td>\n      <td>B0</td>\n      <td>C11</td>\n      <td>D4</td>\n      <td>100</td>\n      <td>E4</td>\n      <td>F2</td>\n      <td>86193</td>\n    </tr>\n    <tr>\n      <th>2</th>\n      <td>2</td>\n      <td>A0</td>\n      <td>B0</td>\n      <td>C18</td>\n      <td>D0</td>\n      <td>0</td>\n      <td>E0</td>\n      <td>F2</td>\n      <td>169200</td>\n    </tr>\n    <tr>\n      <th>3</th>\n      <td>3</td>\n      <td>A2</td>\n      <td>B0</td>\n      <td>C11</td>\n      <td>D1</td>\n      <td>100</td>\n      <td>E1</td>\n      <td>F2</td>\n      <td>58000</td>\n    </tr>\n    <tr>\n      <th>4</th>\n      <td>4</td>\n      <td>A0</td>\n      <td>B0</td>\n      <td>C67</td>\n      <td>D1</td>\n      <td>0</td>\n      <td>E1</td>\n      <td>F2</td>\n      <td>235000</td>\n    </tr>\n    <tr>\n      <th>...</th>\n      <td>...</td>\n      <td>...</td>\n      <td>...</td>\n      <td>...</td>\n      <td>...</td>\n      <td>...</td>\n      <td>...</td>\n      <td>...</td>\n      <td>...</td>\n    </tr>\n    <tr>\n      <th>2623</th>\n      <td>2623</td>\n      <td>A1</td>\n      <td>B0</td>\n      <td>C2</td>\n      <td>D1</td>\n      <td>0</td>\n      <td>E1</td>\n      <td>F2</td>\n      <td>102100</td>\n    </tr>\n    <tr>\n      <th>2624</th>\n      <td>2624</td>\n      <td>A0</td>\n      <td>B0</td>\n      <td>C8</td>\n      <td>D1</td>\n      <td>0</td>\n      <td>E1</td>\n      <td>F2</td>\n      <td>129300</td>\n    </tr>\n    <tr>\n      <th>2625</th>\n      <td>2625</td>\n      <td>A0</td>\n      <td>BO</td>\n      <td>C7</td>\n      <td>D1</td>\n      <td>100</td>\n      <td>E1</td>\n      <td>F2</td>\n      <td>275300</td>\n    </tr>\n    <tr>\n      <th>2626</th>\n      <td>2626</td>\n      <td>A0</td>\n      <td>B0</td>\n      <td>C11</td>\n      <td>D1</td>\n      <td>100</td>\n      <td>E1</td>\n      <td>F2</td>\n      <td>150000</td>\n    </tr>\n    <tr>\n      <th>2627</th>\n      <td>2627</td>\n      <td>A0</td>\n      <td>B0</td>\n      <td>C2</td>\n      <td>D1</td>\n      <td>100</td>\n      <td>E1</td>\n      <td>F2</td>\n      <td>191475</td>\n    </tr>\n  </tbody>\n</table>\n<p>2628 rows × 9 columns</p>\n</div>"
     },
     "execution_count": 3,
     "metadata": {},
     "output_type": "execute_result"
    }
   ],
   "source": [
    "train_df"
   ],
   "metadata": {
    "collapsed": false,
    "ExecuteTime": {
     "end_time": "2023-09-10T15:28:25.421353Z",
     "start_time": "2023-09-10T15:28:25.414403Z"
    }
   },
   "id": "0f4c767e-cce4-480f-a8f5-a69312d0eec8"
  },
  {
   "cell_type": "code",
   "execution_count": 4,
   "outputs": [
    {
     "name": "stdout",
     "output_type": "stream",
     "text": [
      "2628\n"
     ]
    }
   ],
   "source": [
    "print(len(train_df))"
   ],
   "metadata": {
    "collapsed": false,
    "ExecuteTime": {
     "end_time": "2023-09-10T15:28:25.464566Z",
     "start_time": "2023-09-10T15:28:25.421058Z"
    }
   },
   "id": "6c0425df339ad05d"
  },
  {
   "cell_type": "markdown",
   "source": [
    "# Checking null values"
   ],
   "metadata": {
    "collapsed": false
   },
   "id": "e50ca5747848e218"
  },
  {
   "cell_type": "code",
   "execution_count": 5,
   "id": "9028cf5b-80f7-4c0e-a3d7-acee982ff4ec",
   "metadata": {
    "tags": [],
    "ExecuteTime": {
     "end_time": "2023-09-10T15:28:25.465684Z",
     "start_time": "2023-09-10T15:28:25.424818Z"
    }
   },
   "outputs": [
    {
     "data": {
      "text/plain": "337"
     },
     "execution_count": 5,
     "metadata": {},
     "output_type": "execute_result"
    }
   ],
   "source": [
    "train_df.isnull().sum().sum()"
   ]
  },
  {
   "cell_type": "code",
   "execution_count": 6,
   "id": "f8d861fc-46cc-43e3-a78f-0e41b9b2ca41",
   "metadata": {
    "tags": [],
    "ExecuteTime": {
     "end_time": "2023-09-10T15:28:25.465944Z",
     "start_time": "2023-09-10T15:28:25.429170Z"
    }
   },
   "outputs": [
    {
     "data": {
      "text/plain": "UID        0\ncol_0    139\ncol_1     86\ncol_2      0\ncol_3      0\ncol_4      0\ncol_5      0\ncol_6    112\ny          0\ndtype: int64"
     },
     "execution_count": 6,
     "metadata": {},
     "output_type": "execute_result"
    }
   ],
   "source": [
    "train_df.isnull().sum()"
   ]
  },
  {
   "cell_type": "markdown",
   "source": [
    "# Cleaning data and filling null values"
   ],
   "metadata": {
    "collapsed": false
   },
   "id": "c85b4786576bfac5"
  },
  {
   "cell_type": "markdown",
   "source": [
    "### col_0"
   ],
   "metadata": {
    "collapsed": false
   },
   "id": "22b420eefec96b98"
  },
  {
   "cell_type": "code",
   "execution_count": 7,
   "outputs": [
    {
     "data": {
      "text/plain": "col_0\nA0        1517\nA1         489\nA2         178\nA3          67\n A0         53\nA 0         38\nAO          36\nA0          35\nA 1         21\nA1          16\n A1         16\n A2          7\nA 2          6\nA2           4\n A3          4\nA 3          1\nA   3        1\nName: count, dtype: int64"
     },
     "execution_count": 7,
     "metadata": {},
     "output_type": "execute_result"
    }
   ],
   "source": [
    "train_df['col_0'].value_counts()"
   ],
   "metadata": {
    "collapsed": false,
    "ExecuteTime": {
     "end_time": "2023-09-10T15:28:25.505287Z",
     "start_time": "2023-09-10T15:28:25.434742Z"
    }
   },
   "id": "95c81ac22136ec5b"
  },
  {
   "cell_type": "code",
   "execution_count": 8,
   "id": "56cdec29-c2a9-472c-8eb9-b9f10c6dbb53",
   "metadata": {
    "tags": [],
    "ExecuteTime": {
     "end_time": "2023-09-10T15:28:25.505983Z",
     "start_time": "2023-09-10T15:28:25.440660Z"
    }
   },
   "outputs": [],
   "source": [
    "train_df['col_0'] = train_df['col_0'].str.replace(r\"[oO0]\",\"0\",regex=True).str.replace(r\"\\s+\", \"\", regex=True).str.strip().str.upper()"
   ]
  },
  {
   "cell_type": "code",
   "execution_count": 9,
   "outputs": [
    {
     "data": {
      "text/plain": "col_0\nA0    1679\nA1     542\nA2     195\nA3      73\nName: count, dtype: int64"
     },
     "execution_count": 9,
     "metadata": {},
     "output_type": "execute_result"
    }
   ],
   "source": [
    "train_df['col_0'].value_counts()"
   ],
   "metadata": {
    "collapsed": false,
    "ExecuteTime": {
     "end_time": "2023-09-10T15:28:25.506215Z",
     "start_time": "2023-09-10T15:28:25.443466Z"
    }
   },
   "id": "e568367968ed08ee"
  },
  {
   "cell_type": "code",
   "execution_count": 10,
   "outputs": [
    {
     "data": {
      "text/plain": "139"
     },
     "execution_count": 10,
     "metadata": {},
     "output_type": "execute_result"
    }
   ],
   "source": [
    "train_df['col_0'].isnull().sum()"
   ],
   "metadata": {
    "collapsed": false,
    "ExecuteTime": {
     "end_time": "2023-09-10T15:28:25.506359Z",
     "start_time": "2023-09-10T15:28:25.445975Z"
    }
   },
   "id": "7150610af3bc54e6"
  },
  {
   "cell_type": "code",
   "execution_count": 11,
   "id": "62713d23-2c2d-4045-8449-4702376d110d",
   "metadata": {
    "tags": [],
    "ExecuteTime": {
     "end_time": "2023-09-10T15:28:25.506544Z",
     "start_time": "2023-09-10T15:28:25.449176Z"
    }
   },
   "outputs": [],
   "source": [
    "train_df['col_0'] = train_df['col_0'].fillna('A0')"
   ]
  },
  {
   "cell_type": "code",
   "execution_count": 12,
   "outputs": [
    {
     "data": {
      "text/plain": "2628"
     },
     "execution_count": 12,
     "metadata": {},
     "output_type": "execute_result"
    }
   ],
   "source": [
    "train_df['col_0'].notnull().sum()"
   ],
   "metadata": {
    "collapsed": false,
    "ExecuteTime": {
     "end_time": "2023-09-10T15:28:25.506766Z",
     "start_time": "2023-09-10T15:28:25.452255Z"
    }
   },
   "id": "5c578f4c61072a28"
  },
  {
   "cell_type": "markdown",
   "source": [
    "### col_1"
   ],
   "metadata": {
    "collapsed": false
   },
   "id": "586bfca09255966c"
  },
  {
   "cell_type": "code",
   "execution_count": 13,
   "outputs": [
    {
     "data": {
      "text/plain": "col_1\nB0        2375\n B0         48\nB 0         33\nB0          33\nBO          29\nB3          10\nB2           7\nB1           5\nB   3        1\nB1           1\nName: count, dtype: int64"
     },
     "execution_count": 13,
     "metadata": {},
     "output_type": "execute_result"
    }
   ],
   "source": [
    "train_df['col_1'].value_counts()"
   ],
   "metadata": {
    "collapsed": false,
    "ExecuteTime": {
     "end_time": "2023-09-10T15:28:25.506923Z",
     "start_time": "2023-09-10T15:28:25.454778Z"
    }
   },
   "id": "e392b09ebe186a9e"
  },
  {
   "cell_type": "code",
   "execution_count": 14,
   "id": "b5d00c6c-ee6f-4806-9d2a-fb453283e45d",
   "metadata": {
    "tags": [],
    "ExecuteTime": {
     "end_time": "2023-09-10T15:28:25.509348Z",
     "start_time": "2023-09-10T15:28:25.467367Z"
    }
   },
   "outputs": [],
   "source": [
    "train_df['col_1'] = train_df['col_1'].str.replace(r'\\s+', '', regex=True).str.replace(r'[oO]','0',regex=True).str.strip()"
   ]
  },
  {
   "cell_type": "code",
   "execution_count": 15,
   "id": "5944424b-2784-456b-9361-10df71976219",
   "metadata": {
    "tags": [],
    "ExecuteTime": {
     "end_time": "2023-09-10T15:28:25.541171Z",
     "start_time": "2023-09-10T15:28:25.472998Z"
    }
   },
   "outputs": [
    {
     "data": {
      "text/plain": "col_1\nB0    2518\nB3      11\nB2       7\nB1       6\nName: count, dtype: int64"
     },
     "execution_count": 15,
     "metadata": {},
     "output_type": "execute_result"
    }
   ],
   "source": [
    "train_df['col_1'].value_counts()"
   ]
  },
  {
   "cell_type": "code",
   "execution_count": 16,
   "outputs": [
    {
     "data": {
      "text/plain": "86"
     },
     "execution_count": 16,
     "metadata": {},
     "output_type": "execute_result"
    }
   ],
   "source": [
    "train_df['col_1'].isnull().sum()"
   ],
   "metadata": {
    "collapsed": false,
    "ExecuteTime": {
     "end_time": "2023-09-10T15:28:25.548762Z",
     "start_time": "2023-09-10T15:28:25.477366Z"
    }
   },
   "id": "c47fce7ad7cafba1"
  },
  {
   "cell_type": "code",
   "execution_count": 17,
   "id": "50cf6246-4de2-48e3-b3a5-47cd83404dbb",
   "metadata": {
    "tags": [],
    "ExecuteTime": {
     "end_time": "2023-09-10T15:28:25.548998Z",
     "start_time": "2023-09-10T15:28:25.482363Z"
    }
   },
   "outputs": [],
   "source": [
    "train_df['col_1'] = train_df['col_1'].fillna('B0')"
   ]
  },
  {
   "cell_type": "markdown",
   "source": [
    "### col_2"
   ],
   "metadata": {
    "collapsed": false
   },
   "id": "a216e1b77972ca53"
  },
  {
   "cell_type": "code",
   "execution_count": 18,
   "outputs": [
    {
     "data": {
      "text/plain": "col_2\nC11    728\nC2     587\nC4     416\nC9     204\nC15     77\n      ... \nC62      1\nC63      1\nC92      1\nC76      1\nC66      1\nName: count, Length: 90, dtype: int64"
     },
     "execution_count": 18,
     "metadata": {},
     "output_type": "execute_result"
    }
   ],
   "source": [
    "train_df['col_2'].value_counts()"
   ],
   "metadata": {
    "collapsed": false,
    "ExecuteTime": {
     "end_time": "2023-09-10T15:28:25.622877Z",
     "start_time": "2023-09-10T15:28:25.485836Z"
    }
   },
   "id": "b42ee21881713917"
  },
  {
   "cell_type": "markdown",
   "source": [
    "### col_3"
   ],
   "metadata": {
    "collapsed": false
   },
   "id": "6771bfd146cac26a"
  },
  {
   "cell_type": "code",
   "execution_count": 19,
   "outputs": [
    {
     "data": {
      "text/plain": "col_3\nD1     2093\nD4      116\nD0       61\nD2       60\nD6       54\n       ... \nD32       1\nD71       1\nD75       1\nD66       1\nD73       1\nName: count, Length: 68, dtype: int64"
     },
     "execution_count": 19,
     "metadata": {},
     "output_type": "execute_result"
    }
   ],
   "source": [
    "train_df['col_3'].value_counts()"
   ],
   "metadata": {
    "collapsed": false,
    "ExecuteTime": {
     "end_time": "2023-09-10T15:28:25.623596Z",
     "start_time": "2023-09-10T15:28:25.489216Z"
    }
   },
   "id": "35a324c5057299ef"
  },
  {
   "cell_type": "markdown",
   "source": [
    "### col_4"
   ],
   "metadata": {
    "collapsed": false
   },
   "id": "cde798d90bd94da9"
  },
  {
   "cell_type": "code",
   "execution_count": 20,
   "outputs": [
    {
     "data": {
      "text/plain": "col_4\n0      1343\n100    1149\n50      136\nName: count, dtype: int64"
     },
     "execution_count": 20,
     "metadata": {},
     "output_type": "execute_result"
    }
   ],
   "source": [
    "train_df['col_4'].value_counts()"
   ],
   "metadata": {
    "collapsed": false,
    "ExecuteTime": {
     "end_time": "2023-09-10T15:28:25.623727Z",
     "start_time": "2023-09-10T15:28:25.492618Z"
    }
   },
   "id": "e97200f3651c00f2"
  },
  {
   "cell_type": "markdown",
   "source": [
    "### col_5"
   ],
   "metadata": {
    "collapsed": false
   },
   "id": "89785a53b0b579b2"
  },
  {
   "cell_type": "code",
   "execution_count": 21,
   "outputs": [
    {
     "data": {
      "text/plain": "col_5\nE1     2120\nE4      121\nE2       62\nE0       57\nE6       44\n       ... \nE45       1\nE47       1\nE20       1\nE67       1\nE62       1\nName: count, Length: 67, dtype: int64"
     },
     "execution_count": 21,
     "metadata": {},
     "output_type": "execute_result"
    }
   ],
   "source": [
    "train_df['col_5'].value_counts()"
   ],
   "metadata": {
    "collapsed": false,
    "ExecuteTime": {
     "end_time": "2023-09-10T15:28:25.623853Z",
     "start_time": "2023-09-10T15:28:25.496869Z"
    }
   },
   "id": "48bc02efb1b8d1a"
  },
  {
   "cell_type": "markdown",
   "source": [
    "### col_6"
   ],
   "metadata": {
    "collapsed": false
   },
   "id": "140a2e48ae56858f"
  },
  {
   "cell_type": "code",
   "execution_count": 22,
   "id": "0f57ffed-5fdd-451e-b8a7-090a1bb1a2d4",
   "metadata": {
    "tags": [],
    "ExecuteTime": {
     "end_time": "2023-09-10T15:28:25.623989Z",
     "start_time": "2023-09-10T15:28:25.500740Z"
    }
   },
   "outputs": [
    {
     "data": {
      "text/plain": "col_6\nF2        1976\nF0         286\nF1          97\nF 2         46\nF2          43\n F2         39\nF0           7\nF 0          6\n F0          6\nFO           4\nF 1          3\nF1           2\n F1          1\nName: count, dtype: int64"
     },
     "execution_count": 22,
     "metadata": {},
     "output_type": "execute_result"
    }
   ],
   "source": [
    "train_df['col_6'].value_counts()"
   ]
  },
  {
   "cell_type": "code",
   "execution_count": 23,
   "id": "9eab7339-8186-453f-a8ae-9d64c818caeb",
   "metadata": {
    "tags": [],
    "ExecuteTime": {
     "end_time": "2023-09-10T15:28:25.627571Z",
     "start_time": "2023-09-10T15:28:25.506065Z"
    }
   },
   "outputs": [],
   "source": [
    "train_df['col_6'] = train_df['col_6'].str.replace(r'\\s+', '', regex=True).str.replace(r'[oO]','0',regex=True).str.strip()"
   ]
  },
  {
   "cell_type": "code",
   "execution_count": 24,
   "id": "3ee98261-8d12-4b21-acaf-bc10956f19b1",
   "metadata": {
    "tags": [],
    "ExecuteTime": {
     "end_time": "2023-09-10T15:28:25.628015Z",
     "start_time": "2023-09-10T15:28:25.509254Z"
    }
   },
   "outputs": [
    {
     "data": {
      "text/plain": "col_6\nF2    2104\nF0     309\nF1     103\nName: count, dtype: int64"
     },
     "execution_count": 24,
     "metadata": {},
     "output_type": "execute_result"
    }
   ],
   "source": [
    "train_df['col_6'].value_counts()"
   ]
  },
  {
   "cell_type": "code",
   "execution_count": 25,
   "id": "068fd1ac-f2b0-4528-a5e8-b6433374dbca",
   "metadata": {
    "tags": [],
    "ExecuteTime": {
     "end_time": "2023-09-10T15:28:25.644547Z",
     "start_time": "2023-09-10T15:28:25.513381Z"
    }
   },
   "outputs": [
    {
     "data": {
      "text/plain": "112"
     },
     "execution_count": 25,
     "metadata": {},
     "output_type": "execute_result"
    }
   ],
   "source": [
    "train_df['col_6'].isnull().sum()"
   ]
  },
  {
   "cell_type": "code",
   "execution_count": 26,
   "id": "77da4d08-8035-4602-bab9-296cf51eb45d",
   "metadata": {
    "tags": [],
    "ExecuteTime": {
     "end_time": "2023-09-10T15:28:25.644697Z",
     "start_time": "2023-09-10T15:28:25.520934Z"
    }
   },
   "outputs": [],
   "source": [
    "train_df['col_6'] = train_df['col_6'].fillna('F2')"
   ]
  },
  {
   "cell_type": "code",
   "execution_count": 27,
   "id": "a354b121-9ba3-4f4b-ac41-11ce5aa739e7",
   "metadata": {
    "tags": [],
    "ExecuteTime": {
     "end_time": "2023-09-10T15:28:25.645368Z",
     "start_time": "2023-09-10T15:28:25.528841Z"
    }
   },
   "outputs": [
    {
     "data": {
      "text/plain": "col_6\nF2    2216\nF0     309\nF1     103\nName: count, dtype: int64"
     },
     "execution_count": 27,
     "metadata": {},
     "output_type": "execute_result"
    }
   ],
   "source": [
    "train_df['col_6'].value_counts()"
   ]
  },
  {
   "cell_type": "markdown",
   "source": [
    "# Saving modified Dataframe"
   ],
   "metadata": {
    "collapsed": false
   },
   "id": "af627225bd98c19c"
  },
  {
   "cell_type": "code",
   "execution_count": 28,
   "id": "c19d0524-37cc-4692-8d06-d0264421b945",
   "metadata": {
    "tags": [],
    "ExecuteTime": {
     "end_time": "2023-09-10T15:28:25.645873Z",
     "start_time": "2023-09-10T15:28:25.534374Z"
    }
   },
   "outputs": [],
   "source": [
    "train_df.to_csv(\"modified_train.csv\", index=False)"
   ]
  }
 ],
 "metadata": {
  "kernelspec": {
   "display_name": "Python 3 (ipykernel)",
   "language": "python",
   "name": "python3"
  },
  "language_info": {
   "codemirror_mode": {
    "name": "ipython",
    "version": 3
   },
   "file_extension": ".py",
   "mimetype": "text/x-python",
   "name": "python",
   "nbconvert_exporter": "python",
   "pygments_lexer": "ipython3",
   "version": "3.11.3"
  }
 },
 "nbformat": 4,
 "nbformat_minor": 5
}
