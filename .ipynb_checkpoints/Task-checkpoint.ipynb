{
 "cells": [
  {
   "cell_type": "markdown",
   "id": "27f1ca21-7d87-4fad-8f9f-873f58e68cd5",
   "metadata": {},
   "source": [
    "# Importing Modules"
   ]
  },
  {
   "cell_type": "code",
   "execution_count": 1,
   "id": "0ef8ba00-f126-4aaa-a157-fc2ced29bcf4",
   "metadata": {
    "tags": []
   },
   "outputs": [],
   "source": [
    "import pandas as pd\n",
    "import numpy as np\n",
    "import matplotlib.pyplot as plt"
   ]
  },
  {
   "cell_type": "markdown",
   "id": "974f480d-118c-412d-b76f-53f7da162f14",
   "metadata": {},
   "source": [
    "# Dataframe"
   ]
  },
  {
   "cell_type": "code",
   "execution_count": null,
   "id": "f49e8bf8-0d67-4b09-8d3d-76941f459e34",
   "metadata": {},
   "outputs": [],
   "source": [
    "df = pd.read_csv(\""
   ]
  }
 ],
 "metadata": {
  "kernelspec": {
   "display_name": "Python 3 (ipykernel)",
   "language": "python",
   "name": "python3"
  },
  "language_info": {
   "codemirror_mode": {
    "name": "ipython",
    "version": 3
   },
   "file_extension": ".py",
   "mimetype": "text/x-python",
   "name": "python",
   "nbconvert_exporter": "python",
   "pygments_lexer": "ipython3",
   "version": "3.11.3"
  }
 },
 "nbformat": 4,
 "nbformat_minor": 5
}
